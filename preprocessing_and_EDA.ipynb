{
 "cells": [
  {
   "attachments": {},
   "cell_type": "markdown",
   "metadata": {},
   "source": [
    "# Introduction to Data Science"
   ]
  },
  {
   "attachments": {},
   "cell_type": "markdown",
   "metadata": {},
   "source": [
    "Authors: Lior Tondovski, Ilan Vasilevski, Maya Vilenko"
   ]
  },
  {
   "cell_type": "code",
   "execution_count": 1,
   "metadata": {},
   "outputs": [],
   "source": [
    "import pandas as pd\n",
    "import seaborn as sns\n",
    "from sklearn.utils import resample\n",
    "# import smote\n",
    "from imblearn.over_sampling import SMOTE\n",
    "#inport stadard scaler\n",
    "from sklearn.preprocessing import StandardScaler\n",
    "#import holidays\n",
    "import holidays\n",
    "#import progress apply\n",
    "from tqdm import tqdm\n",
    "tqdm.pandas()\n",
    "#split the data into train and validation sets\n",
    "from sklearn.model_selection import train_test_split\n",
    "\n",
    "from utils import *\n",
    "from config import *"
   ]
  },
  {
   "cell_type": "code",
   "execution_count": 2,
   "metadata": {},
   "outputs": [],
   "source": [
    "#read the data\n",
    "train_data = pd.read_csv(training_data_path)\n",
    "test_data = pd.read_csv(test_data_path)"
   ]
  },
  {
   "cell_type": "code",
   "execution_count": 3,
   "metadata": {},
   "outputs": [
    {
     "data": {
      "text/plain": [
       "False    2348498\n",
       "True      170558\n",
       "Name: clicked, dtype: int64"
      ]
     },
     "execution_count": 3,
     "metadata": {},
     "output_type": "execute_result"
    }
   ],
   "source": [
    "#check how many positive and negative samples are there\n",
    "train_data.clicked.value_counts()"
   ]
  },
  {
   "cell_type": "code",
   "execution_count": 4,
   "metadata": {},
   "outputs": [
    {
     "name": "stdout",
     "output_type": "stream",
     "text": [
      "the shape of the train_data is (2519056, 14)\n",
      "the shape of the test_data is (629764, 13)\n",
      "the ratio between the train and test data is 0.25\n"
     ]
    }
   ],
   "source": [
    "#data shape\n",
    "print(f'the shape of the train_data is {train_data.shape}')\n",
    "print(f'the shape of the test_data is {test_data.shape}')\n",
    "print(f'the ratio between the train and test data is {round(test_data.shape[0]/train_data.shape[0], 2)}')"
   ]
  },
  {
   "attachments": {},
   "cell_type": "markdown",
   "metadata": {},
   "source": [
    "##### EDA"
   ]
  },
  {
   "cell_type": "code",
   "execution_count": 5,
   "metadata": {},
   "outputs": [
    {
     "data": {
      "text/html": [
       "<div>\n",
       "<style scoped>\n",
       "    .dataframe tbody tr th:only-of-type {\n",
       "        vertical-align: middle;\n",
       "    }\n",
       "\n",
       "    .dataframe tbody tr th {\n",
       "        vertical-align: top;\n",
       "    }\n",
       "\n",
       "    .dataframe thead th {\n",
       "        text-align: right;\n",
       "    }\n",
       "</style>\n",
       "<table border=\"1\" class=\"dataframe\">\n",
       "  <thead>\n",
       "    <tr style=\"text-align: right;\">\n",
       "      <th></th>\n",
       "      <th>op_id</th>\n",
       "      <th>timestamp</th>\n",
       "      <th>state</th>\n",
       "      <th>user_isp</th>\n",
       "      <th>app_id</th>\n",
       "      <th>app_cat</th>\n",
       "      <th>banner_pos</th>\n",
       "      <th>manufacturer</th>\n",
       "      <th>device_model</th>\n",
       "      <th>device_version</th>\n",
       "      <th>device_height</th>\n",
       "      <th>device_width</th>\n",
       "      <th>resolution</th>\n",
       "      <th>clicked</th>\n",
       "    </tr>\n",
       "  </thead>\n",
       "  <tbody>\n",
       "    <tr>\n",
       "      <th>0</th>\n",
       "      <td>448ed944-b0a3-4f8e-9662-fb1202e2777b</td>\n",
       "      <td>1569445326</td>\n",
       "      <td>New Jersey</td>\n",
       "      <td>Comcast Cable</td>\n",
       "      <td>6rm7ag7</td>\n",
       "      <td>games - simulation</td>\n",
       "      <td>top-right</td>\n",
       "      <td>Samsung</td>\n",
       "      <td>SM-G925V</td>\n",
       "      <td>6.0.1</td>\n",
       "      <td>792</td>\n",
       "      <td>1408</td>\n",
       "      <td>True</td>\n",
       "      <td>False</td>\n",
       "    </tr>\n",
       "    <tr>\n",
       "      <th>1</th>\n",
       "      <td>3c501ca8-f771-4926-acce-d532f979b8b5</td>\n",
       "      <td>1566517297</td>\n",
       "      <td>Illinois</td>\n",
       "      <td>Verizon Wireless</td>\n",
       "      <td>74193f6</td>\n",
       "      <td>games - card</td>\n",
       "      <td>right</td>\n",
       "      <td>NaN</td>\n",
       "      <td>NaN</td>\n",
       "      <td>7.0</td>\n",
       "      <td>2560</td>\n",
       "      <td>1440</td>\n",
       "      <td>True</td>\n",
       "      <td>False</td>\n",
       "    </tr>\n",
       "    <tr>\n",
       "      <th>2</th>\n",
       "      <td>db342130-0f34-4d43-a72c-3c1891eade24</td>\n",
       "      <td>1566375809</td>\n",
       "      <td>California</td>\n",
       "      <td>T-Mobile USA</td>\n",
       "      <td>6549c21</td>\n",
       "      <td>games - puzzle</td>\n",
       "      <td>top-left</td>\n",
       "      <td>NaN</td>\n",
       "      <td>NaN</td>\n",
       "      <td>7.0</td>\n",
       "      <td>1280</td>\n",
       "      <td>720</td>\n",
       "      <td>True</td>\n",
       "      <td>False</td>\n",
       "    </tr>\n",
       "  </tbody>\n",
       "</table>\n",
       "</div>"
      ],
      "text/plain": [
       "                                  op_id   timestamp       state  \\\n",
       "0  448ed944-b0a3-4f8e-9662-fb1202e2777b  1569445326  New Jersey   \n",
       "1  3c501ca8-f771-4926-acce-d532f979b8b5  1566517297    Illinois   \n",
       "2  db342130-0f34-4d43-a72c-3c1891eade24  1566375809  California   \n",
       "\n",
       "           user_isp   app_id             app_cat banner_pos manufacturer  \\\n",
       "0     Comcast Cable  6rm7ag7  games - simulation  top-right      Samsung   \n",
       "1  Verizon Wireless  74193f6        games - card      right          NaN   \n",
       "2      T-Mobile USA  6549c21      games - puzzle   top-left          NaN   \n",
       "\n",
       "  device_model device_version  device_height  device_width  resolution  \\\n",
       "0     SM-G925V          6.0.1            792          1408        True   \n",
       "1          NaN            7.0           2560          1440        True   \n",
       "2          NaN            7.0           1280           720        True   \n",
       "\n",
       "   clicked  \n",
       "0    False  \n",
       "1    False  \n",
       "2    False  "
      ]
     },
     "execution_count": 5,
     "metadata": {},
     "output_type": "execute_result"
    }
   ],
   "source": [
    "train_data.head(3)"
   ]
  },
  {
   "cell_type": "code",
   "execution_count": 6,
   "metadata": {},
   "outputs": [
    {
     "data": {
      "text/html": [
       "<div>\n",
       "<style scoped>\n",
       "    .dataframe tbody tr th:only-of-type {\n",
       "        vertical-align: middle;\n",
       "    }\n",
       "\n",
       "    .dataframe tbody tr th {\n",
       "        vertical-align: top;\n",
       "    }\n",
       "\n",
       "    .dataframe thead th {\n",
       "        text-align: right;\n",
       "    }\n",
       "</style>\n",
       "<table border=\"1\" class=\"dataframe\">\n",
       "  <thead>\n",
       "    <tr style=\"text-align: right;\">\n",
       "      <th></th>\n",
       "      <th>op_id</th>\n",
       "      <th>timestamp</th>\n",
       "      <th>state</th>\n",
       "      <th>user_isp</th>\n",
       "      <th>app_id</th>\n",
       "      <th>app_cat</th>\n",
       "      <th>banner_pos</th>\n",
       "      <th>manufacturer</th>\n",
       "      <th>device_model</th>\n",
       "      <th>device_version</th>\n",
       "      <th>device_height</th>\n",
       "      <th>device_width</th>\n",
       "      <th>resolution</th>\n",
       "    </tr>\n",
       "  </thead>\n",
       "  <tbody>\n",
       "    <tr>\n",
       "      <th>0</th>\n",
       "      <td>63166542-e886-492f-8ff3-4d4f24c03363</td>\n",
       "      <td>1569363301</td>\n",
       "      <td>Minnesota</td>\n",
       "      <td>Savage Communications</td>\n",
       "      <td>59da3a2</td>\n",
       "      <td>games - board</td>\n",
       "      <td>bottom-right</td>\n",
       "      <td>Samsung</td>\n",
       "      <td>SM-S727VL</td>\n",
       "      <td>6.0.1</td>\n",
       "      <td>720</td>\n",
       "      <td>1280</td>\n",
       "      <td>True</td>\n",
       "    </tr>\n",
       "    <tr>\n",
       "      <th>1</th>\n",
       "      <td>411ef0c9-2bdc-48ea-ad87-1f257445efcf</td>\n",
       "      <td>1568625996</td>\n",
       "      <td>Wisconsin</td>\n",
       "      <td>Spectrum</td>\n",
       "      <td>pnomoth</td>\n",
       "      <td>games - puzzle</td>\n",
       "      <td>left</td>\n",
       "      <td>Samsung</td>\n",
       "      <td>SM-G920R4</td>\n",
       "      <td>7</td>\n",
       "      <td>1920</td>\n",
       "      <td>1080</td>\n",
       "      <td>True</td>\n",
       "    </tr>\n",
       "    <tr>\n",
       "      <th>2</th>\n",
       "      <td>36ad3f28-87dc-4843-963a-43908e120038</td>\n",
       "      <td>1570769732</td>\n",
       "      <td>Florida</td>\n",
       "      <td>Spectrum Business</td>\n",
       "      <td>3tsgr77</td>\n",
       "      <td>unknown</td>\n",
       "      <td>bottom-right</td>\n",
       "      <td>Motorola</td>\n",
       "      <td>Moto E4</td>\n",
       "      <td>7.1.1</td>\n",
       "      <td>720</td>\n",
       "      <td>1280</td>\n",
       "      <td>True</td>\n",
       "    </tr>\n",
       "  </tbody>\n",
       "</table>\n",
       "</div>"
      ],
      "text/plain": [
       "                                  op_id   timestamp      state  \\\n",
       "0  63166542-e886-492f-8ff3-4d4f24c03363  1569363301  Minnesota   \n",
       "1  411ef0c9-2bdc-48ea-ad87-1f257445efcf  1568625996  Wisconsin   \n",
       "2  36ad3f28-87dc-4843-963a-43908e120038  1570769732    Florida   \n",
       "\n",
       "                user_isp   app_id         app_cat    banner_pos manufacturer  \\\n",
       "0  Savage Communications  59da3a2   games - board  bottom-right      Samsung   \n",
       "1               Spectrum  pnomoth  games - puzzle          left      Samsung   \n",
       "2      Spectrum Business  3tsgr77         unknown  bottom-right     Motorola   \n",
       "\n",
       "  device_model device_version  device_height  device_width  resolution  \n",
       "0    SM-S727VL          6.0.1            720          1280        True  \n",
       "1    SM-G920R4              7           1920          1080        True  \n",
       "2      Moto E4          7.1.1            720          1280        True  "
      ]
     },
     "execution_count": 6,
     "metadata": {},
     "output_type": "execute_result"
    }
   ],
   "source": [
    "test_data.head(3)"
   ]
  },
  {
   "cell_type": "code",
   "execution_count": 7,
   "metadata": {},
   "outputs": [
    {
     "data": {
      "text/plain": [
       "op_id             2519056\n",
       "timestamp         1930791\n",
       "state                  51\n",
       "user_isp             3316\n",
       "app_id              14315\n",
       "app_cat                46\n",
       "banner_pos              9\n",
       "manufacturer          251\n",
       "device_model         2256\n",
       "device_version         16\n",
       "device_height         297\n",
       "device_width          238\n",
       "resolution              1\n",
       "clicked                 2\n",
       "dtype: int64"
      ]
     },
     "execution_count": 7,
     "metadata": {},
     "output_type": "execute_result"
    }
   ],
   "source": [
    "#check unique values in each column\n",
    "train_data.nunique()"
   ]
  },
  {
   "attachments": {},
   "cell_type": "markdown",
   "metadata": {},
   "source": [
    "it can be seen for example that resolution column has a single value so it doesnt add any information and we will remove it in the preprocess phase"
   ]
  },
  {
   "cell_type": "code",
   "execution_count": 8,
   "metadata": {},
   "outputs": [
    {
     "name": "stdout",
     "output_type": "stream",
     "text": [
      "<class 'pandas.core.frame.DataFrame'>\n",
      "RangeIndex: 2519056 entries, 0 to 2519055\n",
      "Data columns (total 14 columns):\n",
      " #   Column          Dtype \n",
      "---  ------          ----- \n",
      " 0   op_id           object\n",
      " 1   timestamp       int64 \n",
      " 2   state           object\n",
      " 3   user_isp        object\n",
      " 4   app_id          object\n",
      " 5   app_cat         object\n",
      " 6   banner_pos      object\n",
      " 7   manufacturer    object\n",
      " 8   device_model    object\n",
      " 9   device_version  object\n",
      " 10  device_height   int64 \n",
      " 11  device_width    int64 \n",
      " 12  resolution      bool  \n",
      " 13  clicked         bool  \n",
      "dtypes: bool(2), int64(3), object(9)\n",
      "memory usage: 235.4+ MB\n"
     ]
    }
   ],
   "source": [
    "#Data types\n",
    "train_data.info()"
   ]
  },
  {
   "cell_type": "code",
   "execution_count": 9,
   "metadata": {},
   "outputs": [
    {
     "data": {
      "image/png": "[encoded data removed]",
      "text/plain": [
       "<Figure size 1080x576 with 1 Axes>"
      ]
     },
     "metadata": {
      "needs_background": "light"
     },
     "output_type": "display_data"
    }
   ],
   "source": [
    "#plot bat chart of clicked ratio per state\n",
    "#first we need to group the data by state and count the number of clicks\n",
    "state_clicks = train_data.groupby('state')['clicked'].mean().reset_index()\n",
    "state_clicks = state_clicks.sort_values(by='clicked', ascending=False)\n",
    "\n",
    "#plot the data\n",
    "plt.figure(figsize=(15, 8))\n",
    "sns.barplot(x='state', y='clicked', data=state_clicks)\n",
    "plt.title('Clicked ratio per state', fontsize=20)\n",
    "plt.xlabel('State', fontsize=15)\n",
    "plt.ylabel('Clicked ratio', fontsize=15)\n",
    "#rotate the x labels\n",
    "plt.xticks(rotation=90)\n",
    "plt.show()\n"
   ]
  },
  {
   "attachments": {},
   "cell_type": "markdown",
   "metadata": {},
   "source": [
    "There is not much variation in the click ratio between the countries"
   ]
  },
  {
   "cell_type": "code",
   "execution_count": 10,
   "metadata": {},
   "outputs": [
    {
     "data": {
      "image/png": "[encoded data removed]",
      "text/plain": [
       "<Figure size 1080x576 with 1 Axes>"
      ]
     },
     "metadata": {
      "needs_background": "light"
     },
     "output_type": "display_data"
    }
   ],
   "source": [
    "#plot click ratio per app category\n",
    "#first we need to group the data by app category and count the number of clicks\n",
    "app_clicks = train_data.groupby('app_cat')['clicked'].mean().reset_index()\n",
    "app_clicks = app_clicks.sort_values(by='clicked', ascending=False)\n",
    "\n",
    "#plot the data\n",
    "plt.figure(figsize=(15, 8))\n",
    "sns.barplot(x='app_cat', y='clicked', data=app_clicks)\n",
    "plt.title('Clicked ratio per app category', fontsize=20)\n",
    "plt.xlabel('App category', fontsize=15)\n",
    "plt.ylabel('Clicked ratio', fontsize=15)\n",
    "#rotate the x labels\n",
    "plt.xticks(rotation=90)\n",
    "plt.show()\n"
   ]
  },
  {
   "attachments": {},
   "cell_type": "markdown",
   "metadata": {},
   "source": [
    "Graph shows that click ratios are pretty varied between categories of applications"
   ]
  },
  {
   "cell_type": "code",
   "execution_count": 11,
   "metadata": {},
   "outputs": [
    {
     "data": {
      "image/png": "[encoded data removed]",
      "text/plain": [
       "<Figure size 1080x576 with 1 Axes>"
      ]
     },
     "metadata": {
      "needs_background": "light"
     },
     "output_type": "display_data"
    }
   ],
   "source": [
    "#plot click ratio per the location of the add\n",
    "#first we need to group the data by location and count the number of clicks\n",
    "location_clicks = train_data.groupby('banner_pos')['clicked'].mean().reset_index()\n",
    "location_clicks = location_clicks.sort_values(by='clicked', ascending=False)\n",
    "\n",
    "#plot the data\n",
    "plt.figure(figsize=(15, 8))\n",
    "sns.barplot(x='banner_pos', y='clicked', data=location_clicks)\n",
    "plt.title('Clicked ratio per location', fontsize=20)\n",
    "plt.xlabel('Location', fontsize=15)\n",
    "plt.ylabel('Clicked ratio', fontsize=15)\n",
    "#rotate the x labels\n",
    "plt.xticks(rotation=90)\n",
    "plt.show()\n"
   ]
  },
  {
   "cell_type": "code",
   "execution_count": 12,
   "metadata": {},
   "outputs": [
    {
     "data": {
      "text/plain": [
       "top-left        304202\n",
       "left            303553\n",
       "center          303523\n",
       "top             302920\n",
       "bottom-left     261692\n",
       "top-right       261076\n",
       "right           261048\n",
       "bottom-right    260598\n",
       "bottom          260444\n",
       "Name: banner_pos, dtype: int64"
      ]
     },
     "execution_count": 12,
     "metadata": {},
     "output_type": "execute_result"
    }
   ],
   "source": [
    "train_data['banner_pos'].value_counts()"
   ]
  },
  {
   "cell_type": "code",
   "execution_count": 13,
   "metadata": {},
   "outputs": [],
   "source": [
    "#change bottom categories to one category in the banner_pos category\n",
    "train_data['banner_pos'] = train_data['banner_pos'].apply(lambda x: 'bottom' if x in ['bottom', 'bottom-left', 'bottom-right', 'right', 'top-right'] else x)\n",
    "test_data['banner_pos'] = test_data['banner_pos'].apply(lambda x: 'bottom' if x in ['bottom', 'bottom-left', 'bottom-right', 'right', 'top-right'] else x)"
   ]
  },
  {
   "attachments": {},
   "cell_type": "markdown",
   "metadata": {},
   "source": [
    "According to this graph, adds on the bottom/right of the screen are less likely to be clicked!"
   ]
  },
  {
   "attachments": {},
   "cell_type": "markdown",
   "metadata": {},
   "source": [
    "##### Missing Values"
   ]
  },
  {
   "cell_type": "code",
   "execution_count": 14,
   "metadata": {},
   "outputs": [],
   "source": [
    "train_data_missing_values = check_missing_values(train_data)\n",
    "test_data_missing_values = check_missing_values(test_data)"
   ]
  },
  {
   "cell_type": "code",
   "execution_count": 15,
   "metadata": {},
   "outputs": [
    {
     "data": {
      "text/html": [
       "<div>\n",
       "<style scoped>\n",
       "    .dataframe tbody tr th:only-of-type {\n",
       "        vertical-align: middle;\n",
       "    }\n",
       "\n",
       "    .dataframe tbody tr th {\n",
       "        vertical-align: top;\n",
       "    }\n",
       "\n",
       "    .dataframe thead th {\n",
       "        text-align: right;\n",
       "    }\n",
       "</style>\n",
       "<table border=\"1\" class=\"dataframe\">\n",
       "  <thead>\n",
       "    <tr style=\"text-align: right;\">\n",
       "      <th></th>\n",
       "      <th>column</th>\n",
       "      <th>missing_values</th>\n",
       "      <th>missing_values_percentage</th>\n",
       "    </tr>\n",
       "  </thead>\n",
       "  <tbody>\n",
       "    <tr>\n",
       "      <th>7</th>\n",
       "      <td>manufacturer</td>\n",
       "      <td>770942</td>\n",
       "      <td>0.306044</td>\n",
       "    </tr>\n",
       "    <tr>\n",
       "      <th>8</th>\n",
       "      <td>device_model</td>\n",
       "      <td>770846</td>\n",
       "      <td>0.306006</td>\n",
       "    </tr>\n",
       "    <tr>\n",
       "      <th>3</th>\n",
       "      <td>user_isp</td>\n",
       "      <td>32</td>\n",
       "      <td>0.000013</td>\n",
       "    </tr>\n",
       "  </tbody>\n",
       "</table>\n",
       "</div>"
      ],
      "text/plain": [
       "         column  missing_values  missing_values_percentage\n",
       "7  manufacturer          770942                   0.306044\n",
       "8  device_model          770846                   0.306006\n",
       "3      user_isp              32                   0.000013"
      ]
     },
     "execution_count": 15,
     "metadata": {},
     "output_type": "execute_result"
    }
   ],
   "source": [
    "#check the missing values in the train data\n",
    "train_data_missing_values[train_data_missing_values['missing_values_percentage']>0]"
   ]
  },
  {
   "cell_type": "code",
   "execution_count": 16,
   "metadata": {},
   "outputs": [
    {
     "data": {
      "text/html": [
       "<div>\n",
       "<style scoped>\n",
       "    .dataframe tbody tr th:only-of-type {\n",
       "        vertical-align: middle;\n",
       "    }\n",
       "\n",
       "    .dataframe tbody tr th {\n",
       "        vertical-align: top;\n",
       "    }\n",
       "\n",
       "    .dataframe thead th {\n",
       "        text-align: right;\n",
       "    }\n",
       "</style>\n",
       "<table border=\"1\" class=\"dataframe\">\n",
       "  <thead>\n",
       "    <tr style=\"text-align: right;\">\n",
       "      <th></th>\n",
       "      <th>column</th>\n",
       "      <th>missing_values</th>\n",
       "      <th>missing_values_percentage</th>\n",
       "    </tr>\n",
       "  </thead>\n",
       "  <tbody>\n",
       "    <tr>\n",
       "      <th>7</th>\n",
       "      <td>manufacturer</td>\n",
       "      <td>193061</td>\n",
       "      <td>0.306561</td>\n",
       "    </tr>\n",
       "    <tr>\n",
       "      <th>8</th>\n",
       "      <td>device_model</td>\n",
       "      <td>193011</td>\n",
       "      <td>0.306481</td>\n",
       "    </tr>\n",
       "    <tr>\n",
       "      <th>3</th>\n",
       "      <td>user_isp</td>\n",
       "      <td>7</td>\n",
       "      <td>0.000011</td>\n",
       "    </tr>\n",
       "  </tbody>\n",
       "</table>\n",
       "</div>"
      ],
      "text/plain": [
       "         column  missing_values  missing_values_percentage\n",
       "7  manufacturer          193061                   0.306561\n",
       "8  device_model          193011                   0.306481\n",
       "3      user_isp               7                   0.000011"
      ]
     },
     "execution_count": 16,
     "metadata": {},
     "output_type": "execute_result"
    }
   ],
   "source": [
    "#check the missing values in the test data\n",
    "test_data_missing_values[test_data_missing_values['missing_values_percentage']>0]"
   ]
  },
  {
   "attachments": {},
   "cell_type": "markdown",
   "metadata": {},
   "source": [
    "##### Preprocess & Feature Extraction"
   ]
  },
  {
   "cell_type": "code",
   "execution_count": 17,
   "metadata": {},
   "outputs": [],
   "source": [
    "#replace missing values with the category 'unknown'\n",
    "#the reason that we replace the missing values with the category 'unknown' is because we want to keep the information that the value is missing\n",
    "train_data = replace_missing_values(train_data)\n",
    "test_data = replace_missing_values(test_data)"
   ]
  },
  {
   "cell_type": "code",
   "execution_count": 18,
   "metadata": {},
   "outputs": [],
   "source": [
    "# leave only the top k manufacturers\n",
    "k = 14\n",
    "top_mfcrs = train_data['manufacturer'].value_counts().head(k+1).index\n",
    "train_data['manufacturer'] = train_data['manufacturer'].apply(lambda x: x if x in top_mfcrs else 'other')\n",
    "test_data['manufacturer'] = test_data['manufacturer'].apply(lambda x: x if x in top_mfcrs else 'other')"
   ]
  },
  {
   "cell_type": "code",
   "execution_count": 19,
   "metadata": {},
   "outputs": [],
   "source": [
    "# one hot encoding \n",
    "# we will use one hot encoding for the following columns: state, manufacturer, app_cat, banner_pos, device_version\n",
    "get_dummis = ['state','manufacturer', 'app_cat', 'banner_pos', 'device_version']\n",
    "train_data = pd.get_dummies(train_data, columns=get_dummis, prefix=get_dummis)\n",
    "test_data = pd.get_dummies(test_data, columns=get_dummis, prefix=get_dummis)\n",
    "\n",
    "# columns to drop: \n",
    "drop_cols = [ \n",
    "            'op_id',        #op_id colums assigns unique id to each row and it is not useful for our model\n",
    "            'app_id',       #app_id column has a high cardinality\n",
    "            'resolution'    #resolution column has a single value\n",
    "            ]\n",
    "# drop columns\n",
    "train_data.drop(columns=drop_cols, inplace=True)\n",
    "test_data.drop(columns=drop_cols, inplace=True)\n",
    "\n",
    "#change the target variable to binary feature\n",
    "train_data['clicked'] = train_data['clicked'].apply(lambda x: 1 if x == True else 0)"
   ]
  },
  {
   "cell_type": "code",
   "execution_count": 20,
   "metadata": {},
   "outputs": [],
   "source": [
    "#There are some model versions that doesnt appear in the test data and vice versa\n",
    "train_cols = set([x for x in  train_data.columns if x!='clicked'])\n",
    "test_cols = set([x for x in  test_data.columns])\n",
    "bad_cols = train_cols.union(test_cols) - train_cols.intersection(test_cols)\n",
    "\n",
    "train_data= train_data.loc[:,[x for x in train_data.columns if x not in bad_cols]]\n",
    "test_data= test_data.loc[:,[x for x in test_data.columns if x not in bad_cols]]"
   ]
  },
  {
   "cell_type": "code",
   "execution_count": 21,
   "metadata": {},
   "outputs": [
    {
     "name": "stderr",
     "output_type": "stream",
     "text": [
      "100%|██████████| 3317/3317 [05:57<00:00,  9.29it/s]\n",
      "100%|██████████| 2257/2257 [04:31<00:00,  8.33it/s]\n"
     ]
    }
   ],
   "source": [
    "#Extract new features from the categorical features and drop the original features\n",
    "#The features are the ratio of the number of clicks for each category in each feature\n",
    "try:\n",
    "    train_data = pd.read_pickle('processed_files/train_data_stage_1.pkl')\n",
    "    test_data = pd.read_pickle('processed_files/test_data_stage_1.pkl')\n",
    "except:\n",
    "    categorical_columns = ['user_isp', 'device_model']\n",
    "    train_data, test_data = check_the_ratio_of_clicked_from_feature(train_data, test_data, categorical_columns)\n",
    "    #save the processed data\n",
    "    train_data.to_pickle('processed_files/train_data_stage_1.pkl')\n",
    "    test_data.to_pickle('processed_files/test_data_stage_1.pkl')"
   ]
  },
  {
   "cell_type": "code",
   "execution_count": 22,
   "metadata": {},
   "outputs": [],
   "source": [
    "#change timestamp number to datetime\n",
    "train_data['timestamp'] = pd.to_datetime(train_data['timestamp'], unit='s')\n",
    "test_data['timestamp'] = pd.to_datetime(test_data['timestamp'], unit='s')\n",
    "#change timestamp to date and check if it is a us holiday\n",
    "train_data['date'] = train_data['timestamp'].dt.date\n",
    "test_data['date'] = test_data['timestamp'].dt.date\n",
    "#extract hour, day, month and year from the timestamp\n",
    "train_data['hour'] = train_data['timestamp'].dt.hour\n",
    "train_data['day'] = train_data['timestamp'].dt.day\n",
    "train_data['month'] = train_data['timestamp'].dt.month\n",
    "train_data['year'] = train_data['timestamp'].dt.year\n",
    "\n",
    "test_data['hour'] = test_data['timestamp'].dt.hour\n",
    "test_data['day'] = test_data['timestamp'].dt.day\n",
    "test_data['month'] = test_data['timestamp'].dt.month\n",
    "test_data['year'] = test_data['timestamp'].dt.year\n",
    "#drop timestamp column\n",
    "train_data.drop(columns=['timestamp'], inplace=True)\n",
    "test_data.drop(columns=['timestamp'], inplace=True)\n",
    "train_data.drop(columns=['date'], inplace=True)\n",
    "test_data.drop(columns=['date'], inplace=True)"
   ]
  },
  {
   "attachments": {},
   "cell_type": "markdown",
   "metadata": {},
   "source": [
    "##### Target Varible Distributin - Check if the Data is Balanced or Not?"
   ]
  },
  {
   "cell_type": "code",
   "execution_count": 23,
   "metadata": {},
   "outputs": [
    {
     "name": "stdout",
     "output_type": "stream",
     "text": [
      "number of negative samples 2348498\n",
      "number of positive samples 170558\n",
      "The ratio of negative samples to positive samples is 93.23%\n",
      "The ratio of positive samples to negative samples is 6.77%\n"
     ]
    }
   ],
   "source": [
    "#check if the data is balanced\n",
    "print(f'number of negative samples {train_data[train_data.clicked == 0].shape[0]}')\n",
    "print(f'number of positive samples {train_data[train_data.clicked == 1].shape[0]}')\n",
    "print(f'The ratio of negative samples to positive samples is {(train_data[train_data.clicked == 0].shape[0] / train_data.shape[0])*100:.2f}%')\n",
    "print(f'The ratio of positive samples to negative samples is {(train_data[train_data.clicked == 1].shape[0] / train_data.shape[0])*100:.2f}%')"
   ]
  },
  {
   "cell_type": "code",
   "execution_count": 24,
   "metadata": {},
   "outputs": [
    {
     "data": {
      "text/plain": [
       "<matplotlib.legend.Legend at 0x1f319f4eeb0>"
      ]
     },
     "execution_count": 24,
     "metadata": {},
     "output_type": "execute_result"
    },
    {
     "data": {
      "image/png": "[encoded data removed]",
      "text/plain": [
       "<Figure size 432x288 with 1 Axes>"
      ]
     },
     "metadata": {
      "needs_background": "light"
     },
     "output_type": "display_data"
    }
   ],
   "source": [
    "#plot the distribution of the target variable\n",
    "sns.countplot(x='clicked', data=train_data)\n",
    "plt.legend(['Not clicked', 'Clicked'])"
   ]
  },
  {
   "attachments": {},
   "cell_type": "markdown",
   "metadata": {},
   "source": [
    "This dataset is completely unbalanced, as can be seen!"
   ]
  },
  {
   "attachments": {},
   "cell_type": "markdown",
   "metadata": {},
   "source": [
    "##### correlation Analysis"
   ]
  },
  {
   "cell_type": "code",
   "execution_count": 25,
   "metadata": {},
   "outputs": [],
   "source": [
    "#Because the there are many features, we will plot only the features with the highest correlation with the target variable\n",
    "#find the correlation between the features and the target variable\n",
    "#Note: it takes a long time to run this code because there are many features in the data and the correlation is calculated for each feature\n",
    "correlation = train_data.corr()\n",
    "correlation = correlation.sort_values(by='clicked', ascending=False)\n",
    "#most correlated features with the target variable\n",
    "plt.figure(figsize=(15, 8))\n",
    "sns.heatmap(correlation.head(10)[list(correlation.head(10).index.values)], annot=True, cmap='coolwarm')\n",
    "plt.title('Correlation matrix of the features with the highest correlation with the target variable', fontsize=20)\n",
    "plt.xlabel('Features', fontsize=15)\n",
    "plt.ylabel('Features', fontsize=15)\n",
    "plt.show()"
   ]
  },
  {
   "attachments": {},
   "cell_type": "markdown",
   "metadata": {},
   "source": [
    "It can be seen that device mode ratio clicked and the LG manifucturer are correlated.\n",
    "\n",
    "It can be seen that the banner location has the highest correlation with the label."
   ]
  },
  {
   "attachments": {},
   "cell_type": "markdown",
   "metadata": {},
   "source": [
    "##### Standartization Before SMOTE"
   ]
  },
  {
   "cell_type": "code",
   "execution_count": 27,
   "metadata": {},
   "outputs": [],
   "source": [
    "#if column contain two values change its type to boolean\n",
    "bools = []\n",
    "for col in train_data.columns:\n",
    "    if train_data[col].nunique() == 2:\n",
    "        bools.append(col)\n",
    "\n",
    "#get all bool columns\n",
    "columns_to_standardize = [x for x in train_data.columns if not x in bools]\n",
    "\n",
    "#standardize the numerical features\n",
    "#The reason for standardizing the numerical features is that the numerical features have different scales and Smote algorithm is based on the euclidean distance (knn algorithm)#standardize the train data with standard scaler\n",
    "scaler = StandardScaler()\n",
    "train_data[columns_to_standardize] = scaler.fit_transform(train_data[columns_to_standardize])\n",
    "#standardize the test data with standard scaler\n",
    "test_data[columns_to_standardize] = scaler.transform(test_data[columns_to_standardize])"
   ]
  },
  {
   "cell_type": "code",
   "execution_count": 28,
   "metadata": {},
   "outputs": [],
   "source": [
    "#Split the train data to train and validation data in order to check the performance of the model on the validation data\n",
    "train_data, validation_data = train_test_split(train_data, test_size=0.2, random_state=42, stratify=train_data['clicked'])"
   ]
  },
  {
   "cell_type": "code",
   "execution_count": 29,
   "metadata": {},
   "outputs": [],
   "source": [
    "#save the train, validation and test data\n",
    "validation_data.to_pickle('processed_files/validation_data.pkl')\n",
    "test_data.to_pickle('processed_files/test_data.pkl')"
   ]
  },
  {
   "attachments": {},
   "cell_type": "markdown",
   "metadata": {},
   "source": [
    "##### Undersampling"
   ]
  },
  {
   "cell_type": "code",
   "execution_count": 30,
   "metadata": {},
   "outputs": [
    {
     "name": "stdout",
     "output_type": "stream",
     "text": [
      "0    272892\n",
      "1    136446\n",
      "Name: clicked, dtype: int64\n"
     ]
    }
   ],
   "source": [
    "#The reason that we do undersampling is that the data is imbalanced and there are a lot of negative samples and few positive samples and the model will be biased towards\n",
    "# the negative sample so we will undersample the negative samples and oversample the positive samples using SMOTE algorithm\n",
    "\n",
    "# Separate majority and minority classes\n",
    "train_data_majority = train_data[train_data.clicked==0]\n",
    "train_data_minority = train_data[train_data.clicked==1]\n",
    "\n",
    "# Downsample majority class\n",
    "df_majority_downsampled = resample(train_data_majority,\n",
    "                                    replace=False,    # sample without replacement\n",
    "                                    n_samples=train_data_minority.shape[0]*2,  # The majority class will be downsampled to the size of the minority * 2\n",
    "                                    random_state=12) # reproducible results\n",
    "\n",
    "# Combine minority class with downsampled majority class\n",
    "train_data_under_sampled = pd.concat([df_majority_downsampled, train_data_minority])\n",
    "# Display new class counts\n",
    "print(train_data_under_sampled.clicked.value_counts())\n"
   ]
  },
  {
   "cell_type": "code",
   "execution_count": 31,
   "metadata": {},
   "outputs": [],
   "source": [
    "#save the train data after undersampling to a pickle file\n",
    "train_data_under_sampled.to_pickle('processed_files/train_data_undersampled.pkl')"
   ]
  },
  {
   "attachments": {},
   "cell_type": "markdown",
   "metadata": {},
   "source": [
    "##### SMOTE"
   ]
  },
  {
   "cell_type": "code",
   "execution_count": 32,
   "metadata": {},
   "outputs": [
    {
     "data": {
      "text/plain": [
       "0    272892\n",
       "1    272892\n",
       "Name: clicked, dtype: int64"
      ]
     },
     "execution_count": 32,
     "metadata": {},
     "output_type": "execute_result"
    }
   ],
   "source": [
    "#apply smote on train_data_under_sampled\n",
    "#we use sampling_strategy=1.0 because we want to oversample the positive samples to the size of the negative samples\n",
    "sm = SMOTE(random_state=12, sampling_strategy=1.0)\n",
    "X_train_sm, y_train_sm = sm.fit_resample(train_data_under_sampled.drop(columns=['clicked']), train_data_under_sampled.clicked)\n",
    "#convert the data to pandas dataframe\n",
    "X_train_sm = pd.DataFrame(X_train_sm, columns=train_data_under_sampled.drop(columns=['clicked']).columns)\n",
    "y_train_sm = pd.DataFrame(y_train_sm, columns=['clicked'])\n",
    "\n",
    "#combine the data\n",
    "train_data_under_sampled_sm = pd.concat([X_train_sm, y_train_sm], axis=1)\n",
    "\n",
    "#distribution of the target variable\n",
    "train_data_under_sampled_sm['clicked'].value_counts()"
   ]
  },
  {
   "cell_type": "code",
   "execution_count": 33,
   "metadata": {},
   "outputs": [],
   "source": [
    "#save the train_data_under_sampled_sm to pickle file\n",
    "train_data_under_sampled_sm.to_pickle('processed_files/train_data_undersampled_sm.pkl')\n"
   ]
  }
 ],
 "metadata": {
  "kernelspec": {
   "display_name": "Python 3",
   "language": "python",
   "name": "python3"
  },
  "language_info": {
   "codemirror_mode": {
    "name": "ipython",
    "version": 3
   },
   "file_extension": ".py",
   "mimetype": "text/x-python",
   "name": "python",
   "nbconvert_exporter": "python",
   "pygments_lexer": "ipython3",
   "version": "3.9.7 (tags/v3.9.7:1016ef3, Aug 30 2021, 20:19:38) [MSC v.1929 64 bit (AMD64)]"
  },
  "orig_nbformat": 4,
  "vscode": {
   "interpreter": {
    "hash": "0162daef2ac4f91d71dc659d7366b1318efa6dce3a9605ecac659f5b282e8a3d"
   }
  }
 },
 "nbformat": 4,
 "nbformat_minor": 2
}
